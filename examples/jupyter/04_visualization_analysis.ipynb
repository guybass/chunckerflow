{
 "cells": [
  {
   "cell_type": "markdown",
   "metadata": {},
   "source": [
    "# ChunkFlow: Visualization and Analysis\n",
    "\n",
    "This notebook demonstrates ChunkFlow's powerful visualization and analysis capabilities.\n",
    "\n",
    "## What You'll Learn\n",
    "\n",
    "1. How to use ResultsDataFrame for data analysis\n",
    "2. How to create publication-quality visualizations\n",
    "3. How to export results in various formats\n",
    "4. How to generate comprehensive comparison reports\n",
    "\n",
    "## Prerequisites\n",
    "\n",
    "```bash\n",
    "pip install chunk-flow[huggingface,viz]\n",
    "```"
   ]
  },
  {
   "cell_type": "code",
   "execution_count": null,
   "metadata": {},
   "outputs": [],
   "source": [
    "# Import required libraries\n",
    "import asyncio\n",
    "import numpy as np\n",
    "import pandas as pd\n",
    "import matplotlib.pyplot as plt\n",
    "from chunk_flow.chunking import StrategyRegistry\n",
    "from chunk_flow.embeddings import EmbeddingProviderFactory\n",
    "from chunk_flow.evaluation import EvaluationPipeline\n",
    "from chunk_flow.analysis import ResultsDataFrame, StrategyVisualizer\n",
    "\n",
    "# Set matplotlib style\n",
    "plt.style.use('seaborn-v0_8-darkgrid')\n",
    "%matplotlib inline\n",
    "\n",
    "print(\"✓ All imports successful!\")"
   ]
  },
  {
   "cell_type": "markdown",
   "metadata": {},
   "source": [
    "## 1. Prepare Data\n",
    "\n",
    "Let's evaluate multiple strategies on a sample document."
   ]
  },
  {
   "cell_type": "code",
   "execution_count": null,
   "metadata": {},
   "outputs": [],
   "source": [
    "# Sample document about renewable energy\n",
    "document = \"\"\"\n",
    "# Renewable Energy: The Future of Power\n",
    "\n",
    "Renewable energy comes from natural sources that are constantly replenished. Unlike fossil \n",
    "fuels, which take millions of years to form, renewable sources regenerate naturally and \n",
    "provide sustainable alternatives to conventional energy.\n",
    "\n",
    "## Solar Energy\n",
    "\n",
    "Solar power harnesses energy from the sun using photovoltaic cells or concentrated solar \n",
    "power systems. Solar panels convert sunlight directly into electricity through the \n",
    "photovoltaic effect. As of 2024, solar energy costs have dropped by over 90% in the past \n",
    "decade, making it one of the cheapest energy sources available.\n",
    "\n",
    "The efficiency of solar panels continues to improve, with modern panels achieving 20-23% \n",
    "efficiency. New technologies like perovskite solar cells promise even higher efficiencies \n",
    "above 30%. Solar farms now span thousands of acres, generating gigawatts of clean power.\n",
    "\n",
    "## Wind Energy\n",
    "\n",
    "Wind turbines convert kinetic energy from wind into electrical power. Modern wind turbines \n",
    "can be massive, with blades over 80 meters long and towers exceeding 100 meters in height. \n",
    "Offshore wind farms take advantage of stronger, more consistent ocean winds.\n",
    "\n",
    "Wind power has become highly competitive with fossil fuels. In many regions, new wind \n",
    "installations are cheaper than coal or natural gas plants. The global wind energy capacity \n",
    "exceeded 1,000 GW in 2023, with continued rapid growth expected.\n",
    "\n",
    "## Hydroelectric Power\n",
    "\n",
    "Hydroelectric dams generate electricity by channeling water through turbines. Hydropower \n",
    "is the world's largest source of renewable electricity, accounting for about 16% of global \n",
    "electricity production. Large dams can generate thousands of megawatts, powering entire cities.\n",
    "\n",
    "However, large dams can have significant environmental impacts, including ecosystem \n",
    "disruption and greenhouse gas emissions from reservoirs. Small-scale hydropower and \n",
    "run-of-river systems offer more environmentally friendly alternatives.\n",
    "\n",
    "## Geothermal Energy\n",
    "\n",
    "Geothermal power taps into Earth's internal heat. Geothermal plants work best in regions \n",
    "with volcanic activity or hot springs. Iceland generates over 25% of its electricity from \n",
    "geothermal sources, while Kenya produces 45% of its power geothermally.\n",
    "\n",
    "Enhanced geothermal systems (EGS) could unlock vast geothermal potential in areas without \n",
    "natural hot water sources. This technology involves drilling deep wells and fracturing hot \n",
    "rocks to create artificial reservoirs.\n",
    "\n",
    "## Biomass Energy\n",
    "\n",
    "Biomass energy comes from organic materials like wood, crops, and waste. Burning biomass \n",
    "releases energy, but it also produces carbon dioxide. However, if biomass is sustainably \n",
    "managed, new plant growth reabsorbs the CO2, creating a carbon-neutral cycle.\n",
    "\n",
    "Advanced biofuels derived from algae or agricultural waste show promise. These second and \n",
    "third-generation biofuels avoid competing with food crops for land, addressing a key \n",
    "criticism of first-generation biofuels like corn ethanol.\n",
    "\n",
    "## Energy Storage\n",
    "\n",
    "A major challenge for renewables is intermittency - the sun doesn't always shine, and the \n",
    "wind doesn't always blow. Energy storage technologies are crucial for reliability. Lithium-ion \n",
    "batteries dominate current storage, but alternatives like flow batteries, compressed air \n",
    "storage, and hydrogen are developing rapidly.\n",
    "\n",
    "Grid-scale battery installations can store hundreds of megawatt-hours, smoothing out supply \n",
    "fluctuations. Tesla's Megapack and similar systems are being deployed worldwide, enabling \n",
    "higher renewable penetration in electricity grids.\n",
    "\n",
    "## Smart Grids\n",
    "\n",
    "Smart grids use digital technology to manage electricity distribution efficiently. They can \n",
    "balance supply and demand in real-time, integrate distributed renewable sources, and respond \n",
    "to outages automatically. Advanced metering and demand response programs help shift \n",
    "consumption to times when renewable generation is abundant.\n",
    "\n",
    "## Economic Impact\n",
    "\n",
    "The renewable energy sector employs millions globally. Solar and wind jobs have grown \n",
    "rapidly, offering new employment opportunities. The transition to renewables is projected \n",
    "to create more jobs than are lost in fossil fuel industries.\n",
    "\n",
    "Investment in renewables reached $500 billion in 2023. Governments worldwide offer \n",
    "incentives like tax credits, feed-in tariffs, and renewable energy certificates to \n",
    "accelerate adoption.\n",
    "\n",
    "## Future Outlook\n",
    "\n",
    "By 2050, renewables could provide 80% or more of global electricity if current trends \n",
    "continue. Continued cost reductions, improved storage, and supportive policies will drive \n",
    "this transformation. The age of fossil fuels is ending, and the renewable energy era has begun.\n",
    "\"\"\"\n",
    "\n",
    "print(f\"Document length: {len(document)} characters\")"
   ]
  },
  {
   "cell_type": "code",
   "execution_count": null,
   "metadata": {},
   "outputs": [],
   "source": [
    "# Create multiple strategies\n",
    "strategies = {\n",
    "    \"fixed_300\": StrategyRegistry.create(\"fixed_size\", {\"chunk_size\": 300, \"overlap\": 50}),\n",
    "    \"fixed_600\": StrategyRegistry.create(\"fixed_size\", {\"chunk_size\": 600, \"overlap\": 100}),\n",
    "    \"recursive\": StrategyRegistry.create(\"recursive\", {\"chunk_size\": 500, \"overlap\": 80}),\n",
    "    \"markdown\": StrategyRegistry.create(\"markdown\", {\"respect_headers\": True}),\n",
    "}\n",
    "\n",
    "# Chunk document with each strategy\n",
    "chunk_results = {}\n",
    "for name, strategy in strategies.items():\n",
    "    result = await strategy.chunk(document, doc_id=\"renewable_energy\")\n",
    "    chunk_results[name] = result\n",
    "\n",
    "print(f\"Chunked document with {len(strategies)} strategies\")"
   ]
  },
  {
   "cell_type": "code",
   "execution_count": null,
   "metadata": {},
   "outputs": [],
   "source": [
    "# Generate embeddings\n",
    "embedder = EmbeddingProviderFactory.create(\n",
    "    \"huggingface\",\n",
    "    {\"model\": \"sentence-transformers/all-MiniLM-L6-v2\", \"normalize\": True}\n",
    ")\n",
    "\n",
    "embedding_results = {}\n",
    "for name, chunk_result in chunk_results.items():\n",
    "    emb_result = await embedder.embed_texts(chunk_result.chunks)\n",
    "    embedding_results[name] = emb_result\n",
    "\n",
    "print(\"Generated embeddings for all strategies\")"
   ]
  },
  {
   "cell_type": "code",
   "execution_count": null,
   "metadata": {},
   "outputs": [],
   "source": [
    "# Evaluate all strategies\n",
    "pipeline = EvaluationPipeline(\n",
    "    metrics=[\n",
    "        \"semantic_coherence\",\n",
    "        \"boundary_quality\",\n",
    "        \"chunk_stickiness\",\n",
    "        \"topic_diversity\",\n",
    "    ]\n",
    ")\n",
    "\n",
    "evaluation_results = {}\n",
    "for name in strategies.keys():\n",
    "    eval_result = await pipeline.evaluate(\n",
    "        chunks=chunk_results[name].chunks,\n",
    "        embeddings=embedding_results[name].embeddings,\n",
    "    )\n",
    "    evaluation_results[name] = eval_result\n",
    "\n",
    "print(\"Evaluation complete for all strategies\")"
   ]
  },
  {
   "cell_type": "markdown",
   "metadata": {},
   "source": [
    "## 2. ResultsDataFrame Analysis\n",
    "\n",
    "The ResultsDataFrame provides pandas-based analysis capabilities."
   ]
  },
  {
   "cell_type": "code",
   "execution_count": null,
   "metadata": {},
   "outputs": [],
   "source": [
    "# Create ResultsDataFrame\n",
    "results_df = ResultsDataFrame.from_evaluation_results(\n",
    "    evaluation_results,\n",
    "    strategy_names=list(strategies.keys())\n",
    ")\n",
    "\n",
    "# Display raw data\n",
    "print(\"Raw Results:\\n\")\n",
    "print(results_df.to_string())"
   ]
  },
  {
   "cell_type": "code",
   "execution_count": null,
   "metadata": {},
   "outputs": [],
   "source": [
    "# Get summary statistics\n",
    "summary = results_df.summary_statistics()\n",
    "\n",
    "print(\"\\nSummary Statistics:\\n\")\n",
    "print(summary)"
   ]
  },
  {
   "cell_type": "code",
   "execution_count": null,
   "metadata": {},
   "outputs": [],
   "source": [
    "# Rank strategies by each metric\n",
    "print(\"\\nRanking by Semantic Coherence:\\n\")\n",
    "ranked_coherence = results_df.rank_strategies(by=\"semantic_coherence\", ascending=False)\n",
    "print(ranked_coherence[[\"strategy\", \"semantic_coherence\"]])"
   ]
  },
  {
   "cell_type": "code",
   "execution_count": null,
   "metadata": {},
   "outputs": [],
   "source": [
    "# Weighted ranking\n",
    "print(\"\\nWeighted Ranking (emphasizing coherence and boundaries):\\n\")\n",
    "ranked_weighted = results_df.rank_strategies(\n",
    "    weights={\n",
    "        \"semantic_coherence\": 2.0,\n",
    "        \"boundary_quality\": 2.0,\n",
    "        \"chunk_stickiness\": 1.0,\n",
    "        \"topic_diversity\": 1.0,\n",
    "    },\n",
    "    ascending=False\n",
    ")\n",
    "print(ranked_weighted[[\"strategy\", \"weighted_score\", \"semantic_coherence\", \"boundary_quality\"]])"
   ]
  },
  {
   "cell_type": "code",
   "execution_count": null,
   "metadata": {},
   "outputs": [],
   "source": [
    "# Filter high-performing strategies\n",
    "print(\"\\nStrategies with coherence > 0.5:\\n\")\n",
    "high_coherence = results_df.filter_by_metric(\"semantic_coherence\", min_value=0.5)\n",
    "print(high_coherence[[\"strategy\", \"semantic_coherence\"]])"
   ]
  },
  {
   "cell_type": "code",
   "execution_count": null,
   "metadata": {},
   "outputs": [],
   "source": [
    "# Correlation analysis\n",
    "print(\"\\nMetric Correlations:\\n\")\n",
    "correlations = results_df.correlation_analysis()\n",
    "print(correlations)"
   ]
  },
  {
   "cell_type": "markdown",
   "metadata": {},
   "source": [
    "## 3. Visualization: Heatmap\n",
    "\n",
    "Visualize strategy performance across all metrics."
   ]
  },
  {
   "cell_type": "code",
   "execution_count": null,
   "metadata": {},
   "outputs": [],
   "source": [
    "# Create performance heatmap\n",
    "plt.figure(figsize=(10, 6))\n",
    "\n",
    "StrategyVisualizer.plot_heatmap(\n",
    "    data=results_df.df[[\"semantic_coherence\", \"boundary_quality\", \"chunk_stickiness\", \"topic_diversity\"]].values,\n",
    "    strategies=list(strategies.keys()),\n",
    "    metrics=[\"semantic_coherence\", \"boundary_quality\", \"chunk_stickiness\", \"topic_diversity\"],\n",
    "    title=\"Strategy Performance Heatmap\",\n",
    "    figsize=(10, 6),\n",
    "    cmap=\"RdYlGn\",\n",
    ")\n",
    "\n",
    "plt.tight_layout()\n",
    "plt.savefig(\"heatmap.png\", dpi=300, bbox_inches='tight')\n",
    "plt.show()\n",
    "\n",
    "print(\"\\n✓ Heatmap saved as heatmap.png\")"
   ]
  },
  {
   "cell_type": "markdown",
   "metadata": {},
   "source": [
    "## 4. Visualization: Bar Chart Comparison\n",
    "\n",
    "Compare strategies side-by-side."
   ]
  },
  {
   "cell_type": "code",
   "execution_count": null,
   "metadata": {},
   "outputs": [],
   "source": [
    "# Create bar chart comparison\n",
    "plt.figure(figsize=(12, 6))\n",
    "\n",
    "StrategyVisualizer.plot_bar_comparison(\n",
    "    data=results_df.df,\n",
    "    strategies=list(strategies.keys()),\n",
    "    metrics=[\"semantic_coherence\", \"boundary_quality\", \"topic_diversity\"],\n",
    "    title=\"Strategy Comparison: Key Metrics\",\n",
    "    figsize=(12, 6),\n",
    ")\n",
    "\n",
    "plt.tight_layout()\n",
    "plt.savefig(\"bar_comparison.png\", dpi=300, bbox_inches='tight')\n",
    "plt.show()\n",
    "\n",
    "print(\"\\n✓ Bar chart saved as bar_comparison.png\")"
   ]
  },
  {
   "cell_type": "markdown",
   "metadata": {},
   "source": [
    "## 5. Visualization: Radar Chart\n",
    "\n",
    "Multi-dimensional comparison with radar plots."
   ]
  },
  {
   "cell_type": "code",
   "execution_count": null,
   "metadata": {},
   "outputs": [],
   "source": [
    "# Create radar chart\n",
    "plt.figure(figsize=(10, 10))\n",
    "\n",
    "StrategyVisualizer.plot_radar_chart(\n",
    "    data=results_df.df,\n",
    "    strategies=list(strategies.keys()),\n",
    "    metrics=[\"semantic_coherence\", \"boundary_quality\", \"chunk_stickiness\", \"topic_diversity\"],\n",
    "    title=\"Multi-Metric Strategy Comparison\",\n",
    "    figsize=(10, 10),\n",
    ")\n",
    "\n",
    "plt.tight_layout()\n",
    "plt.savefig(\"radar_chart.png\", dpi=300, bbox_inches='tight')\n",
    "plt.show()\n",
    "\n",
    "print(\"\\n✓ Radar chart saved as radar_chart.png\")"
   ]
  },
  {
   "cell_type": "markdown",
   "metadata": {},
   "source": [
    "## 6. Visualization: Box Plot\n",
    "\n",
    "Show metric distributions across strategies."
   ]
  },
  {
   "cell_type": "code",
   "execution_count": null,
   "metadata": {},
   "outputs": [],
   "source": [
    "# Create box plot\n",
    "plt.figure(figsize=(10, 6))\n",
    "\n",
    "StrategyVisualizer.plot_box_plot(\n",
    "    data=results_df.df,\n",
    "    metric=\"semantic_coherence\",\n",
    "    title=\"Semantic Coherence Distribution\",\n",
    "    figsize=(10, 6),\n",
    ")\n",
    "\n",
    "plt.tight_layout()\n",
    "plt.savefig(\"box_plot.png\", dpi=300, bbox_inches='tight')\n",
    "plt.show()\n",
    "\n",
    "print(\"\\n✓ Box plot saved as box_plot.png\")"
   ]
  },
  {
   "cell_type": "markdown",
   "metadata": {},
   "source": [
    "## 7. Visualization: Correlation Matrix\n",
    "\n",
    "Understand relationships between metrics."
   ]
  },
  {
   "cell_type": "code",
   "execution_count": null,
   "metadata": {},
   "outputs": [],
   "source": [
    "# Create correlation matrix\n",
    "plt.figure(figsize=(8, 6))\n",
    "\n",
    "StrategyVisualizer.plot_correlation_matrix(\n",
    "    data=results_df.df[[\"semantic_coherence\", \"boundary_quality\", \"chunk_stickiness\", \"topic_diversity\"]],\n",
    "    title=\"Metric Correlation Matrix\",\n",
    "    figsize=(8, 6),\n",
    "    cmap=\"coolwarm\",\n",
    ")\n",
    "\n",
    "plt.tight_layout()\n",
    "plt.savefig(\"correlation_matrix.png\", dpi=300, bbox_inches='tight')\n",
    "plt.show()\n",
    "\n",
    "print(\"\\n✓ Correlation matrix saved as correlation_matrix.png\")"
   ]
  },
  {
   "cell_type": "markdown",
   "metadata": {},
   "source": [
    "## 8. Visualization: Scatter Plot\n",
    "\n",
    "Compare two metrics directly."
   ]
  },
  {
   "cell_type": "code",
   "execution_count": null,
   "metadata": {},
   "outputs": [],
   "source": [
    "# Create scatter plot\n",
    "plt.figure(figsize=(8, 6))\n",
    "\n",
    "StrategyVisualizer.plot_scatter(\n",
    "    data=results_df.df,\n",
    "    x_metric=\"semantic_coherence\",\n",
    "    y_metric=\"boundary_quality\",\n",
    "    strategies=list(strategies.keys()),\n",
    "    title=\"Coherence vs Boundary Quality\",\n",
    "    figsize=(8, 6),\n",
    ")\n",
    "\n",
    "plt.tight_layout()\n",
    "plt.savefig(\"scatter_plot.png\", dpi=300, bbox_inches='tight')\n",
    "plt.show()\n",
    "\n",
    "print(\"\\n✓ Scatter plot saved as scatter_plot.png\")"
   ]
  },
  {
   "cell_type": "markdown",
   "metadata": {},
   "source": [
    "## 9. Generate Dashboard\n",
    "\n",
    "Create a comprehensive dashboard with all visualizations."
   ]
  },
  {
   "cell_type": "code",
   "execution_count": null,
   "metadata": {},
   "outputs": [],
   "source": [
    "# Generate comprehensive dashboard\n",
    "StrategyVisualizer.create_dashboard(\n",
    "    data=results_df.df,\n",
    "    strategies=list(strategies.keys()),\n",
    "    metrics=[\"semantic_coherence\", \"boundary_quality\", \"chunk_stickiness\", \"topic_diversity\"],\n",
    "    output_path=\"strategy_dashboard.png\",\n",
    "    title=\"ChunkFlow Strategy Analysis Dashboard\",\n",
    ")\n",
    "\n",
    "print(\"\\n✓ Dashboard saved as strategy_dashboard.png\")"
   ]
  },
  {
   "cell_type": "markdown",
   "metadata": {},
   "source": [
    "## 10. Export Results\n",
    "\n",
    "Export results in various formats for sharing and further analysis."
   ]
  },
  {
   "cell_type": "code",
   "execution_count": null,
   "metadata": {},
   "outputs": [],
   "source": [
    "# Export to CSV\n",
    "results_df.to_csv(\"results.csv\")\n",
    "print(\"✓ Exported to results.csv\")\n",
    "\n",
    "# Export to JSON\n",
    "results_df.to_json(\"results.json\")\n",
    "print(\"✓ Exported to results.json\")\n",
    "\n",
    "# Export to Parquet (efficient binary format)\n",
    "results_df.to_parquet(\"results.parquet\")\n",
    "print(\"✓ Exported to results.parquet\")\n",
    "\n",
    "# Export to Excel (if openpyxl is installed)\n",
    "try:\n",
    "    results_df.to_excel(\"results.xlsx\")\n",
    "    print(\"✓ Exported to results.xlsx\")\n",
    "except ImportError:\n",
    "    print(\"⚠ Excel export requires openpyxl: pip install openpyxl\")"
   ]
  },
  {
   "cell_type": "markdown",
   "metadata": {},
   "source": [
    "## 11. Custom Analysis\n",
    "\n",
    "Perform custom pandas operations on the results."
   ]
  },
  {
   "cell_type": "code",
   "execution_count": null,
   "metadata": {},
   "outputs": [],
   "source": [
    "# Access underlying pandas DataFrame\n",
    "df = results_df.df\n",
    "\n",
    "# Calculate composite score (custom formula)\n",
    "df['composite_score'] = (\n",
    "    df['semantic_coherence'] * 0.3 + \n",
    "    df['boundary_quality'] * 0.3 + \n",
    "    (1 - df['chunk_stickiness']) * 0.2 +  # Inverted\n",
    "    df['topic_diversity'] * 0.2\n",
    ")\n",
    "\n",
    "# Sort by composite score\n",
    "df_sorted = df.sort_values('composite_score', ascending=False)\n",
    "\n",
    "print(\"\\nCustom Composite Score Ranking:\\n\")\n",
    "print(df_sorted[['strategy', 'composite_score', 'semantic_coherence', 'boundary_quality']].to_string(index=False))"
   ]
  },
  {
   "cell_type": "code",
   "execution_count": null,
   "metadata": {},
   "outputs": [],
   "source": [
    "# Find best strategy for each metric\n",
    "print(\"\\nBest Strategy per Metric:\\n\")\n",
    "metrics = ['semantic_coherence', 'boundary_quality', 'topic_diversity']\n",
    "\n",
    "for metric in metrics:\n",
    "    best_strategy = df.loc[df[metric].idxmax(), 'strategy']\n",
    "    best_score = df[metric].max()\n",
    "    print(f\"{metric:25s} → {best_strategy:15s} ({best_score:.4f})\")\n",
    "\n",
    "# Chunk stickiness: lower is better\n",
    "best_stickiness_strategy = df.loc[df['chunk_stickiness'].idxmin(), 'strategy']\n",
    "best_stickiness_score = df['chunk_stickiness'].min()\n",
    "print(f\"{'chunk_stickiness':25s} → {best_stickiness_strategy:15s} ({best_stickiness_score:.4f})\")"
   ]
  },
  {
   "cell_type": "code",
   "execution_count": null,
   "metadata": {},
   "outputs": [],
   "source": [
    "# Statistical comparison\n",
    "print(\"\\nStatistical Summary:\\n\")\n",
    "print(df[['semantic_coherence', 'boundary_quality', 'chunk_stickiness', 'topic_diversity']].describe())"
   ]
  },
  {
   "cell_type": "markdown",
   "metadata": {},
   "source": [
    "## 12. Interactive Exploration\n",
    "\n",
    "Tips for interactive exploration in Jupyter."
   ]
  },
  {
   "cell_type": "code",
   "execution_count": null,
   "metadata": {},
   "outputs": [],
   "source": [
    "# Use pandas styling for better visualization\n",
    "styled = results_df.df.style.background_gradient(cmap='RdYlGn', subset=['semantic_coherence', 'boundary_quality'])\n",
    "styled = styled.background_gradient(cmap='RdYlGn_r', subset=['chunk_stickiness'])  # Inverted for stickiness\n",
    "styled = styled.format({\n",
    "    'semantic_coherence': '{:.4f}',\n",
    "    'boundary_quality': '{:.4f}',\n",
    "    'chunk_stickiness': '{:.4f}',\n",
    "    'topic_diversity': '{:.4f}',\n",
    "})\n",
    "\n",
    "styled"
   ]
  },
  {
   "cell_type": "markdown",
   "metadata": {},
   "source": [
    "## Insights from Visualizations\n",
    "\n",
    "### Key Takeaways:\n",
    "\n",
    "1. **Heatmap** shows overall performance patterns\n",
    "   - Identify strategies that excel across multiple metrics\n",
    "   - Spot weaknesses (red cells) that need attention\n",
    "\n",
    "2. **Bar Chart** enables direct comparison\n",
    "   - See which strategy wins for each metric\n",
    "   - Understand trade-offs between strategies\n",
    "\n",
    "3. **Radar Chart** reveals multi-dimensional performance\n",
    "   - Larger areas indicate better overall performance\n",
    "   - Asymmetric shapes show specialized strengths\n",
    "\n",
    "4. **Correlation Matrix** uncovers metric relationships\n",
    "   - Positive correlations: metrics tend to move together\n",
    "   - Negative correlations: trade-offs exist\n",
    "\n",
    "5. **Scatter Plot** shows pairwise relationships\n",
    "   - Ideal strategies appear in top-right (high on both)\n",
    "   - Outliers may indicate unique characteristics\n",
    "\n",
    "### Best Practices:\n",
    "\n",
    "- **Compare apples to apples**: Use same document for all strategies\n",
    "- **Consider context**: Different use cases may prioritize different metrics\n",
    "- **Look for trade-offs**: No strategy is perfect for everything\n",
    "- **Validate on multiple documents**: Single document may not be representative\n",
    "- **Export and share**: Use visualizations to communicate findings"
   ]
  },
  {
   "cell_type": "markdown",
   "metadata": {},
   "source": [
    "## Summary\n",
    "\n",
    "In this notebook, you learned:\n",
    "\n",
    "✅ How to use ResultsDataFrame for analysis\n",
    "✅ How to create 7 types of visualizations\n",
    "✅ How to generate comprehensive dashboards\n",
    "✅ How to export results in multiple formats (CSV, JSON, Parquet, Excel)\n",
    "✅ How to perform custom pandas analysis\n",
    "✅ How to interpret visualizations for insights\n",
    "\n",
    "## Next Steps\n",
    "\n",
    "- **Notebook 05**: Using the ChunkFlow REST API\n",
    "- Try with your own documents and strategies\n",
    "- Experiment with different metric combinations\n",
    "- Share visualizations with your team"
   ]
  }
 ],
 "metadata": {
  "kernelspec": {
   "display_name": "Python 3",
   "language": "python",
   "name": "python3"
  },
  "language_info": {
   "codemirror_mode": {
    "name": "ipython",
    "version": 3
   },
   "file_extension": ".py",
   "mimetype": "text/x-python",
   "name": "python",
   "nbconvert_exporter": "python",
   "pygments_lexer": "ipython3",
   "version": "3.9.0"
  }
 },
 "nbformat": 4,
 "nbformat_minor": 4
}
